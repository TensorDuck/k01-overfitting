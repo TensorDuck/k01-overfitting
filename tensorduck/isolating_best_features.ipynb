{
 "cells": [
  {
   "cell_type": "markdown",
   "metadata": {},
   "source": [
    "Finding the Best Features\n",
    "==================\n",
    "\n",
    "Some attempts to pre-process the features in order to improve learning methods. \n",
    "\n"
   ]
  },
  {
   "cell_type": "code",
   "execution_count": 2,
   "metadata": {},
   "outputs": [],
   "source": [
    "# This Python 3 environment comes with many helpful analytics libraries installed\n",
    "# It is defined by the kaggle/python docker image: https://github.com/kaggle/docker-python\n",
    "# For example, here's several helpful packages to load in\n",
    "\n",
    "%load_ext autoreload\n",
    "%autoreload 2\n",
    "%matplotlib inline\n",
    "\n",
    "\n",
    "import numpy as np\n",
    "import pandas as pd\n",
    "#import lightgbm\n",
    "from sklearn.model_selection import train_test_split\n",
    "from sklearn.preprocessing import LabelBinarizer\n",
    "from sklearn import decomposition as skdecomp\n",
    "from sklearn import ensemble as skensemble\n",
    "from sklearn import tree as sktree\n",
    "from sklearn import metrics as skmetrics\n",
    "\n",
    "import os\n",
    "import time\n",
    "import matplotlib.pyplot as plt\n",
    "\n",
    "from load import DataWorker\n",
    "\n",
    "N_FEATURE_DIMENSIONS = 20"
   ]
  },
  {
   "cell_type": "code",
   "execution_count": 3,
   "metadata": {},
   "outputs": [],
   "source": [
    "def get_color_sequence(y):\n",
    "    cs = []\n",
    "    for value in y:\n",
    "        if value == 0:\n",
    "            col = \"b\"\n",
    "        else:\n",
    "            col = \"r\"\n",
    "        cs.append(col)\n",
    "    return cs\n",
    "\n",
    "class WeightedPredictionEnsemble(skensemble.BaggingClassifier):\n",
    "\n",
    "    def __init__(self, **kwargs):\n",
    "        self.weight_one = kwargs.pop(\"weight_one\", 1) #default value is 1\n",
    "        super(WeightedPredictionEnsemble, self).__init__(**kwargs)\n",
    "\n",
    "    def predict(self, X):\n",
    "        weight_sum = np.zeros(np.shape(X)[0])\n",
    "        avg_prediction = np.zeros(np.shape(X)[0])\n",
    "        for clf in self.estimators_:\n",
    "            results = clf.predict(X)\n",
    "            results = results.astype(float)\n",
    "            \n",
    "            weight_sum[np.where(results == 0)] += 1\n",
    "            weight_sum[np.where(results == 1)] += self.weight_one\n",
    "\n",
    "            results[np.where(results == 1)] *= self.weight_one\n",
    "            avg_prediction += results\n",
    "\n",
    "        final = avg_prediction / weight_sum\n",
    "        final[np.where(final >= 0.5)] = 1\n",
    "        final[np.where(final < 1)] = 0\n",
    "\n",
    "        return final\n"
   ]
  },
  {
   "cell_type": "code",
   "execution_count": 4,
   "metadata": {},
   "outputs": [],
   "source": [
    "dw = DataWorker() # load all the data\n",
    "x, y, test = dw.get_normalized_production_set()\n",
    "\n",
    "# Previously, we found these hyper parametesr to be pretty good for learning\n",
    "# Note, previous models were not found to be sensitive to the max_features parameters\n",
    "# Therefore, a smaller value of max_features is used in dimensional reduction\n",
    "best_forest = WeightedPredictionEnsemble(base_estimator=sktree.DecisionTreeClassifier(max_features=1.0, \n",
    "                                            class_weight={0:1,1:0.56}), \n",
    "                                       n_estimators=1000, \n",
    "                                       max_samples=150, \n",
    "                                       weight_one=0.56)\n",
    "\n",
    "regular_forest = WeightedPredictionEnsemble(base_estimator=sktree.DecisionTreeClassifier(max_features=300, \n",
    "                                            class_weight={0:1,1:0.56}), \n",
    "                                       n_estimators=1000, \n",
    "                                       max_samples=150, \n",
    "                                       weight_one=0.56)\n",
    "\n",
    "# extra random trees make a random forest with completely random splits at every node \n",
    "extra_random_forest = skensemble.ExtraTreesClassifier(n_estimators=1000, class_weight={0:1,1:0.56})"
   ]
  },
  {
   "cell_type": "markdown",
   "metadata": {},
   "source": [
    "Now that the basic objects are initialized. Let's compute an extra random tree to get an initial set of about 50 features that are probably important. One of the problems of measuring feature importance is that with so many initial features, the top features can be a bit noisy. So let's do this in 2 steps. First, extract the top 50, and then extract the top 10 on decision trees run using the top 50."
   ]
  },
  {
   "cell_type": "code",
   "execution_count": 5,
   "metadata": {},
   "outputs": [
    {
     "name": "stdout",
     "output_type": "stream",
     "text": [
      "Most Important Features:\n",
      "[ 33  65 117 217  91  80 295  82  24 194 189  30   4 199  39  17  73  16\n",
      " 272 230]\n"
     ]
    },
    {
     "data": {
      "image/png": "[encoded data removed]",
      "text/plain": [
       "<Figure size 432x288 with 1 Axes>"
      ]
     },
     "metadata": {
      "needs_background": "light"
     },
     "output_type": "display_data"
    }
   ],
   "source": [
    "# Run an extra random forest on all 300 classifiers, get initial estimate of ~ 50 top features\n",
    "extra_random_forest.fit(x, y)\n",
    "feature_importance = np.zeros((1000,300))\n",
    "\n",
    "for idx,est in enumerate(extra_random_forest.estimators_):\n",
    "    feature_importance[idx,:] = est.feature_importances_\n",
    "\n",
    "avg_importance = feature_importance.mean(axis=0)\n",
    "sd_importance = feature_importance.std(axis=0)\n",
    "\n",
    "sort_indices = np.argsort(avg_importance*-1)\n",
    "\n",
    "n_importance = 50\n",
    "sorted_avg = []\n",
    "sorted_sd = []\n",
    "for i in range(n_importance):\n",
    "    sorted_avg.append(avg_importance[sort_indices[i]])\n",
    "    sorted_sd.append(sd_importance[sort_indices[i]])\n",
    "plt.figure()\n",
    "plt.errorbar(np.arange(n_importance), sorted_avg, yerr=sorted_sd)\n",
    "\n",
    "print(\"Most Important Features:\")\n",
    "print(sort_indices[:20]) \n",
    "# empirically, the first 5 seem to be fairly consistent, the next 10 or so can vary in order and are less consistent. \n"
   ]
  },
  {
   "cell_type": "markdown",
   "metadata": {},
   "source": [
    "Great, let's now recompute an extra random tree (and I guess, a regular decision tree) and see what the 10 most important features are now with this smaller subset of features."
   ]
  },
  {
   "cell_type": "code",
   "execution_count": 6,
   "metadata": {
    "scrolled": false
   },
   "outputs": [
    {
     "name": "stdout",
     "output_type": "stream",
     "text": [
      "Most Important Features:\n",
      "[ 0  1  4  3  2 15 13 40  5  7  6 16  8 11 29 17 20 46 31 10]\n"
     ]
    },
    {
     "data": {
      "image/png": "[encoded data removed]",
      "text/plain": [
       "<Figure size 432x288 with 1 Axes>"
      ]
     },
     "metadata": {
      "needs_background": "light"
     },
     "output_type": "display_data"
    }
   ],
   "source": [
    "sorted_x = x[:,sort_indices[:n_importance]]\n",
    "best_forest.fit(sorted_x, y)\n",
    "feature_importance = np.zeros((1000,50))\n",
    "\n",
    "for idx,est in enumerate(best_forest.estimators_):\n",
    "    feature_importance[idx,:] = est.feature_importances_\n",
    "\n",
    "avg_importance = feature_importance.mean(axis=0)\n",
    "sd_importance = feature_importance.std(axis=0)\n",
    "\n",
    "sort_indices = np.argsort(avg_importance*-1)\n",
    "\n",
    "n_importance = 50\n",
    "sorted_avg = []\n",
    "sorted_sd = []\n",
    "for i in range(n_importance):\n",
    "    sorted_avg.append(avg_importance[sort_indices[i]])\n",
    "    sorted_sd.append(sd_importance[sort_indices[i]])\n",
    "plt.figure()\n",
    "plt.errorbar(np.arange(n_importance), sorted_avg, yerr=sorted_sd)\n",
    "\n",
    "print(\"Most Important Features:\")\n",
    "print(sort_indices[:20]) \n",
    "# empirically, the first 5 seem to be fairly consistent, the next 10 or so can vary in order and are less consistent. \n"
   ]
  },
  {
   "cell_type": "markdown",
   "metadata": {},
   "source": [
    "Statistics on 1000 trees\n",
    "===================\n",
    "\n",
    "In order to make this more repeatable, I computed statistics on 1000 extra random trees (`ExtraTreeClassifier`). I then isolated the top 50 features and ranked them further using a `WeightedPredictionEnsemble` and a `ExtraTreeClassifier`. First, let's load the results computed with `important_feature_statitics.py` compute the average rank of all 300 features. Looking at the plots, it looks like the first 5 features already are causing most of the decrease at each split for the Gini impurity. "
   ]
  },
  {
   "cell_type": "code",
   "execution_count": 27,
   "metadata": {},
   "outputs": [],
   "source": [
    "features_set_random = np.loadtxt(\"top_features.dat\").astype(int)\n",
    "features_set_forest = np.loadtxt(\"top_features_not_random.dat\").astype(int)\n",
    "\n",
    "def compute_average_ranks(features_set):\n",
    "    # Given a set of features, compute the average and standard deviation for each feature's rank\n",
    "    features_ranks = np.zeros((300, 1000))\n",
    "    for i in range(1000):\n",
    "        this_rank = np.ones(300) * 51 # default rank is 51 for bad feature\n",
    "        for j in range(50):\n",
    "            this_rank[features_set[i,j]] = j\n",
    "        features_ranks[:,i] = this_rank\n",
    "        \n",
    "    avg = features_ranks.mean(axis=1)\n",
    "    std = features_ranks.std(axis=1)\n",
    "    return avg, std\n",
    "\n",
    "\n",
    "def sort_ranks(avg, std):\n",
    "    # Sort the feature ranks, return list with feature index, mean and std of importance rank\n",
    "    sort_idx = np.argsort(avg)\n",
    "    sort_lst = []\n",
    "    for i in range(300):\n",
    "        idx = sort_idx[i]\n",
    "        sort_lst.append([idx, avg[idx], std[idx]])\n",
    "    return sort_lst"
   ]
  },
  {
   "cell_type": "code",
   "execution_count": 62,
   "metadata": {
    "scrolled": false
   },
   "outputs": [
    {
     "data": {
      "image/png": "[encoded data removed]",
      "text/plain": [
       "<Figure size 720x360 with 2 Axes>"
      ]
     },
     "metadata": {
      "needs_background": "light"
     },
     "output_type": "display_data"
    }
   ],
   "source": [
    "# Compute the average ranks and their std for each tree\n",
    "random_avg, random_std = compute_average_ranks(features_set_random)\n",
    "best_random = sort_ranks(random_avg, random_std)\n",
    "\n",
    "forest_avg, forest_std = compute_average_ranks(features_set_forest)\n",
    "best_forest = sort_ranks(forest_avg, forest_std)\n",
    "\n",
    "# Plot the average ranks, look for patterns\n",
    "n_plot = 25\n",
    "\n",
    "best_random_arr = np.array(best_random)\n",
    "best_forest_arr = np.array(best_forest)\n",
    "\n",
    "plt.figure(figsize=(10,5))        \n",
    "plt.subplot(1,2,1)\n",
    "plt.title(\"Extra Random Forest\")\n",
    "plt.axis([0, n_plot, 0, 45])\n",
    "plt.errorbar(np.arange(n_plot), best_random_arr[:n_plot,1], yerr=best_random_arr[:n_plot,2])\n",
    "\n",
    "#plot gridlines\n",
    "for i in range(0,45,5):\n",
    "    plt.plot([i,i],[0, 45], linestyle=\":\", color=\"orange\")\n",
    "    plt.plot([0, 45],[i,i], linestyle=\":\", color=\"orange\")\n",
    "\n",
    "\n",
    "plt.subplot(1,2,2)\n",
    "plt.title(\"Weighted Random Forest\")\n",
    "plt.axis([0, n_plot, 0, 45])\n",
    "plt.errorbar(np.arange(n_plot), best_forest_arr[:n_plot,1], yerr=best_forest_arr[:n_plot,2])\n",
    "#plot gridlines\n",
    "for i in range(0,45,5):\n",
    "    plt.plot([i,i],[0, 45], linestyle=\":\", color=\"orange\")\n",
    "    plt.plot([0, 45],[i,i], linestyle=\":\", color=\"orange\")\n",
    "\n"
   ]
  },
  {
   "cell_type": "markdown",
   "metadata": {},
   "source": [
    "Cool, so it looks like the ranks have discontinuities. I theorizie these discontinuities or jumps can probably act as good break points for selecting a smaller number of features. Clearly 20 is too big when the value of features begin to fluctuate heavily."
   ]
  },
  {
   "cell_type": "code",
   "execution_count": 69,
   "metadata": {},
   "outputs": [
    {
     "name": "stdout",
     "output_type": "stream",
     "text": [
      "[ 33.  65.  91. 117. 217.]\n",
      "[ 33.  65.  91. 117. 217.]\n",
      "[ 33.  65.  91. 117. 199. 217.]\n",
      "[ 33.  65.  91. 117. 217. 295.]\n",
      "[ 33.  65.  80.  82.  91. 117. 189. 199. 217. 295.]\n",
      "[ 17.  33.  65.  73.  80.  91. 117. 199. 217. 295.]\n",
      "[ 16.  17.  24.  33.  65.  73.  80.  82.  91. 117. 189. 199. 217. 295.]\n",
      "[ 16.  17.  24.  30.  33.  65.  73.  80.  82.  91. 117. 199. 217. 295.]\n",
      "[ 16.  17.  24.  30.  33.  39.  65.  73.  80.  82.  91. 117. 164. 176.\n",
      " 189. 194. 199. 201. 217. 295.]\n",
      "[ 16.  17.  24.  30.  33.  65.  73.  80.  82.  91. 117. 167. 189. 194.\n",
      " 199. 214. 217. 230. 237. 295.]\n",
      "16.84\n",
      "12.174\n",
      "8.015\n",
      "18.146\n"
     ]
    }
   ],
   "source": [
    "# print out the top N features\n",
    "n_print_features = 5\n",
    "print(np.sort(best_random_arr[:n_print_features,0]))\n",
    "print(np.sort(best_forest_arr[:n_print_features,0]))\n",
    "\n",
    "n_print_features = 6\n",
    "print(np.sort(best_random_arr[:n_print_features,0]))\n",
    "print(np.sort(best_forest_arr[:n_print_features,0]))\n",
    "\n",
    "n_print_features = 10\n",
    "print(np.sort(best_random_arr[:n_print_features,0]))\n",
    "print(np.sort(best_forest_arr[:n_print_features,0]))\n",
    "\n",
    "n_print_features = 14\n",
    "print(np.sort(best_random_arr[:n_print_features,0]))\n",
    "print(np.sort(best_forest_arr[:n_print_features,0]))\n",
    "\n",
    "n_print_features = 20\n",
    "print(np.sort(best_random_arr[:n_print_features,0]))\n",
    "print(np.sort(best_forest_arr[:n_print_features,0]))\n",
    "\n",
    "print(random_avg[30])\n",
    "print(forest_avg[30])\n",
    "\n",
    "print(random_avg[189])\n",
    "print(forest_avg[189])\n",
    "\n",
    "top5_idx = [33, 65, 91, 117, 217]\n",
    "top15_idx = [16, 17, 24, 30, 33, 65, 73, 80, 82, 91, 117, 189, 199, 217, 295]"
   ]
  },
  {
   "cell_type": "markdown",
   "metadata": {},
   "source": [
    "Some interesting break points emerge. First 5 features are consistent, this would probably be enough for a super simple model. Then differences emerge between the methods. The key difference seems to be Feature 30 and 189. Feature 189 probably contains some hidden information that is gleamed when using a more random method, but feature 30 provides more consistent splits. Let's include both for an even 15 features, as well as the first 5 features. Maybe after outlier removal, the random feature could have more information. We can then train several trees using these different sets of features and combine them in some sort of voting result."
   ]
  },
  {
   "cell_type": "code",
   "execution_count": 75,
   "metadata": {},
   "outputs": [],
   "source": [
    "# Set up the training data\n",
    "x_top5 = x[:,top5_idx]\n",
    "x_top15 = x[:,top15_idx]\n",
    "\n",
    "full_forest = WeightedPredictionEnsemble(base_estimator=sktree.DecisionTreeClassifier(max_features=300, \n",
    "                                            class_weight={0:1,1:0.56}), \n",
    "                                       n_estimators=1000, \n",
    "                                       max_samples=150, \n",
    "                                       weight_one=0.56)\n",
    "\n",
    "forest_top5 = WeightedPredictionEnsemble(base_estimator=sktree.DecisionTreeClassifier(max_features=1.0, \n",
    "                                            class_weight={0:1,1:0.56}), \n",
    "                                       n_estimators=1000, \n",
    "                                       max_samples=150, \n",
    "                                       weight_one=0.56)\n",
    "\n",
    "forest_top15 = WeightedPredictionEnsemble(base_estimator=sktree.DecisionTreeClassifier(max_features=1.0, \n",
    "                                            class_weight={0:1,1:0.56}), \n",
    "                                       n_estimators=1000, \n",
    "                                       max_samples=150, \n",
    "                                       weight_one=0.56)\n",
    "\n",
    "extra_top5 = skensemble.ExtraTreesClassifier(n_estimators=1000, class_weight={0:1,1:0.56})\n",
    "\n",
    "extra_top15 = skensemble.ExtraTreesClassifier(n_estimators=1000, class_weight={0:1,1:0.56})\n",
    "\n",
    "all_forests = [full_forest, forest_top5, forest_top15, extra_top5, extra_top15]\n",
    "all_training_data = [x, x_top5, x_top15, x_top5, x_top15]"
   ]
  },
  {
   "cell_type": "code",
   "execution_count": 78,
   "metadata": {},
   "outputs": [
    {
     "name": "stdout",
     "output_type": "stream",
     "text": [
      "0.6\n",
      "Classified as zero: 26, 0.520000\n",
      " Classified as one: 24, 0.480000\n",
      "0.78\n",
      "Classified as zero: 19, 0.380000\n",
      " Classified as one: 31, 0.620000\n",
      "0.66\n",
      "Classified as zero: 25, 0.500000\n",
      " Classified as one: 25, 0.500000\n",
      "0.72\n",
      "Classified as zero: 8, 0.160000\n",
      " Classified as one: 42, 0.840000\n",
      "0.72\n",
      "Classified as zero: 8, 0.160000\n",
      " Classified as one: 42, 0.840000\n"
     ]
    }
   ],
   "source": [
    "for frst,tdat in zip(all_forests, all_training_data):\n",
    "    x_train, x_val, y_train, y_val = train_test_split(tdat, y, test_size=0.2, random_state=23, stratify=y) \n",
    "    frst.fit(x_train, y_train)\n",
    "    y_predicted = frst.predict(x_val)\n",
    "    score = skmetrics.accuracy_score(y_val, y_predicted)\n",
    "    print(score)\n",
    "    dw.print_fraction_predictions(y_predicted)"
   ]
  },
  {
   "cell_type": "markdown",
   "metadata": {},
   "source": [
    "Okay, so it seems like some of these classifiers are effectivelky the same. Let's pick three of the ones that seem relatively different and maybe their average will work out. Let's pick `forest_top5`, `forest_top15` and `extra_top5` as they seem to be good at different things and there are already models that seem to be good at classifying different features."
   ]
  },
  {
   "cell_type": "code",
   "execution_count": 90,
   "metadata": {
    "scrolled": true
   },
   "outputs": [
    {
     "name": "stdout",
     "output_type": "stream",
     "text": [
      "Classified as zero: 8486, 0.429671\n",
      " Classified as one: 11264, 0.570329\n",
      "Classified as zero: 8251, 0.417772\n",
      " Classified as one: 11499, 0.582228\n",
      "Classified as zero: 5458, 0.276354\n",
      " Classified as one: 14292, 0.723646\n",
      "Classified as zero: 7344, 0.371848\n",
      " Classified as one: 12406, 0.628152\n"
     ]
    }
   ],
   "source": [
    "final_jungle = [forest_top5, forest_top15, extra_top5]\n",
    "final_training_data = [x_top5, x_top15, x_top5]\n",
    "\n",
    "test_top5 = test[:,top5_idx]\n",
    "test_top15 = test[:,top15_idx]\n",
    "final_test_data = [test_top5, test_top15, test_top5]\n",
    "\n",
    "final_weights = np.ones(len(final_jungle))\n",
    "\n",
    "# train the models\n",
    "for frst,tdat in zip(final_jungle, final_training_data):\n",
    "    frst.fit(tdat, y)\n",
    "\n",
    "# Now, make new predictions\n",
    "all_predictions = []\n",
    "for frst,tdat in zip(final_jungle, final_test_data):\n",
    "    all_predictions.append(frst.predict(tdat))\n",
    "\n",
    "# and average the predictions and see what we get\n",
    "avg_predictions = np.zeros(np.shape(all_predictions[0]))\n",
    "for prediction,weight in zip(all_predictions, final_weights):\n",
    "    dw.print_fraction_predictions(prediction)\n",
    "    avg_predictions += prediction*weight\n",
    "\n",
    "avg_predictions /= np.sum(final_weights)\n",
    "\n",
    "final_predictions = np.zeros(np.shape(avg_predictions))\n",
    "final_predictions[np.where(avg_predictions > 0.5)] = 1\n",
    "\n",
    "dw.output_results(final_predictions, \"submission_random_jungleA.csv\")"
   ]
  },
  {
   "cell_type": "markdown",
   "metadata": {},
   "source": [
    "Submitting this combined result, I ended up with having a score of 0.716, which was a mild improvement from the previous score of 0.699. Well, let's remove outliers now that we have a good low-dimensional set of features and see what happens. First, let's save the information here to make it easier for other members in the group to work with."
   ]
  },
  {
   "cell_type": "code",
   "execution_count": 95,
   "metadata": {},
   "outputs": [],
   "source": [
    "dw.output_features(top5_idx, \"top5\")\n",
    "dw.output_features(top15_idx, \"top15\")\n",
    "np.savetxt(\"top5_features.txt\", best_forest_arr[:5,0], fmt=\"%d\")\n",
    "np.savetxt(\"top15_features.txt\", top15_idx, fmt=\"%d\")"
   ]
  },
  {
   "cell_type": "markdown",
   "metadata": {},
   "source": [
    "Outlier Removal\n",
    "=============\n",
    "\n",
    "Use isolation forest to remove outliers. Remove specifically in the most important feature dimensions. Then remove outliers if they make sense. "
   ]
  },
  {
   "cell_type": "code",
   "execution_count": null,
   "metadata": {},
   "outputs": [],
   "source": []
  }
 ],
 "metadata": {
  "kernelspec": {
   "display_name": "Python 3",
   "language": "python",
   "name": "python3"
  },
  "language_info": {
   "codemirror_mode": {
    "name": "ipython",
    "version": 3
   },
   "file_extension": ".py",
   "mimetype": "text/x-python",
   "name": "python",
   "nbconvert_exporter": "python",
   "pygments_lexer": "ipython3",
   "version": "3.7.1"
  }
 },
 "nbformat": 4,
 "nbformat_minor": 2
}
