{
 "cells": [
  {
   "cell_type": "code",
   "execution_count": 22,
   "metadata": {},
   "outputs": [
    {
     "name": "stdout",
     "output_type": "stream",
     "text": [
      "The autoreload extension is already loaded. To reload it, use:\n",
      "  %reload_ext autoreload\n"
     ]
    }
   ],
   "source": [
    "%load_ext autoreload\n",
    "%autoreload 2\n",
    "%matplotlib inline\n",
    "\n",
    "from load import DataWorker\n",
    "import numpy as np\n",
    "\n",
    "dw = DataWorker()"
   ]
  },
  {
   "cell_type": "code",
   "execution_count": 24,
   "metadata": {},
   "outputs": [
    {
     "name": "stdout",
     "output_type": "stream",
     "text": [
      "Test target distribution:\n",
      "Classified as zero: 90, 0.360000\n",
      " Classified as one: 160, 0.640000\n",
      "Predicted submission distribution:\n",
      "Classified as zero: 0, 0.000000\n",
      " Classified as one: 19750, 1.000000\n"
     ]
    }
   ],
   "source": [
    "dw.train #training data\n",
    "dw.target #known results for training data\n",
    "dw.test #test inputs\n",
    "\n",
    "# return all training data\n",
    "x,y, test = dw.get_production_set() \n",
    "\n",
    "# small random set for debugging\n",
    "#x,y, test = dw.get_debug_set() \n",
    "\n",
    "# get a regularized training and test set\n",
    "x,y, test = dw.get_normalized_production_set() \n",
    "\n",
    "# print out the number and fraction of predictions in each class\n",
    "print(\"Test target distribution:\")\n",
    "dw.print_fraction_predictions(y)\n",
    "\n",
    "# output to a file called submission.csv\n",
    "print(\"Predicted submission distribution:\")\n",
    "dw.output_results(np.ones(dw.n_test), savename=\"submission.csv\")"
   ]
  },
  {
   "cell_type": "code",
   "execution_count": null,
   "metadata": {},
   "outputs": [],
   "source": []
  }
 ],
 "metadata": {
  "kernelspec": {
   "display_name": "Python 3",
   "language": "python",
   "name": "python3"
  },
  "language_info": {
   "codemirror_mode": {
    "name": "ipython",
    "version": 3
   },
   "file_extension": ".py",
   "mimetype": "text/x-python",
   "name": "python",
   "nbconvert_exporter": "python",
   "pygments_lexer": "ipython3",
   "version": "3.7.3"
  }
 },
 "nbformat": 4,
 "nbformat_minor": 2
}
